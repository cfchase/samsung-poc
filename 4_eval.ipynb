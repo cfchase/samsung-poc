{
 "cells": [
  {
   "cell_type": "code",
   "id": "cd700427e4c2b4b7",
   "metadata": {
    "tags": [],
    "ExecuteTime": {
     "end_time": "2024-10-01T17:44:22.373349Z",
     "start_time": "2024-10-01T17:44:16.018928Z"
    }
   },
   "source": [
    "!pip install langchain\n",
    "!pip install langchain-community\n",
    "!pip install langchain-openai\n",
    "!pip install ragas"
   ],
   "outputs": [
    {
     "name": "stdout",
     "output_type": "stream",
     "text": [
      "Requirement already satisfied: langchain in ./venv/lib/python3.11/site-packages (0.2.16)\r\n",
      "Requirement already satisfied: PyYAML>=5.3 in ./venv/lib/python3.11/site-packages (from langchain) (6.0.2)\r\n",
      "Requirement already satisfied: SQLAlchemy<3,>=1.4 in ./venv/lib/python3.11/site-packages (from langchain) (2.0.35)\r\n",
      "Requirement already satisfied: aiohttp<4.0.0,>=3.8.3 in ./venv/lib/python3.11/site-packages (from langchain) (3.10.8)\r\n",
      "Requirement already satisfied: langchain-core<0.3.0,>=0.2.38 in ./venv/lib/python3.11/site-packages (from langchain) (0.2.41)\r\n",
      "Requirement already satisfied: langchain-text-splitters<0.3.0,>=0.2.0 in ./venv/lib/python3.11/site-packages (from langchain) (0.2.4)\r\n",
      "Requirement already satisfied: langsmith<0.2.0,>=0.1.17 in ./venv/lib/python3.11/site-packages (from langchain) (0.1.129)\r\n",
      "Requirement already satisfied: numpy<2,>=1 in ./venv/lib/python3.11/site-packages (from langchain) (1.26.4)\r\n",
      "Requirement already satisfied: pydantic<3,>=1 in ./venv/lib/python3.11/site-packages (from langchain) (2.9.2)\r\n",
      "Requirement already satisfied: requests<3,>=2 in ./venv/lib/python3.11/site-packages (from langchain) (2.32.3)\r\n",
      "Requirement already satisfied: tenacity!=8.4.0,<9.0.0,>=8.1.0 in ./venv/lib/python3.11/site-packages (from langchain) (8.5.0)\r\n",
      "Requirement already satisfied: aiohappyeyeballs>=2.3.0 in ./venv/lib/python3.11/site-packages (from aiohttp<4.0.0,>=3.8.3->langchain) (2.4.3)\r\n",
      "Requirement already satisfied: aiosignal>=1.1.2 in ./venv/lib/python3.11/site-packages (from aiohttp<4.0.0,>=3.8.3->langchain) (1.3.1)\r\n",
      "Requirement already satisfied: attrs>=17.3.0 in ./venv/lib/python3.11/site-packages (from aiohttp<4.0.0,>=3.8.3->langchain) (24.2.0)\r\n",
      "Requirement already satisfied: frozenlist>=1.1.1 in ./venv/lib/python3.11/site-packages (from aiohttp<4.0.0,>=3.8.3->langchain) (1.4.1)\r\n",
      "Requirement already satisfied: multidict<7.0,>=4.5 in ./venv/lib/python3.11/site-packages (from aiohttp<4.0.0,>=3.8.3->langchain) (6.1.0)\r\n",
      "Requirement already satisfied: yarl<2.0,>=1.12.0 in ./venv/lib/python3.11/site-packages (from aiohttp<4.0.0,>=3.8.3->langchain) (1.13.1)\r\n",
      "Requirement already satisfied: jsonpatch<2.0,>=1.33 in ./venv/lib/python3.11/site-packages (from langchain-core<0.3.0,>=0.2.38->langchain) (1.33)\r\n",
      "Requirement already satisfied: packaging<25,>=23.2 in ./venv/lib/python3.11/site-packages (from langchain-core<0.3.0,>=0.2.38->langchain) (24.1)\r\n",
      "Requirement already satisfied: typing-extensions>=4.7 in ./venv/lib/python3.11/site-packages (from langchain-core<0.3.0,>=0.2.38->langchain) (4.12.2)\r\n",
      "Requirement already satisfied: httpx<1,>=0.23.0 in ./venv/lib/python3.11/site-packages (from langsmith<0.2.0,>=0.1.17->langchain) (0.27.2)\r\n",
      "Requirement already satisfied: orjson<4.0.0,>=3.9.14 in ./venv/lib/python3.11/site-packages (from langsmith<0.2.0,>=0.1.17->langchain) (3.10.7)\r\n",
      "Requirement already satisfied: annotated-types>=0.6.0 in ./venv/lib/python3.11/site-packages (from pydantic<3,>=1->langchain) (0.7.0)\r\n",
      "Requirement already satisfied: pydantic-core==2.23.4 in ./venv/lib/python3.11/site-packages (from pydantic<3,>=1->langchain) (2.23.4)\r\n",
      "Requirement already satisfied: charset-normalizer<4,>=2 in ./venv/lib/python3.11/site-packages (from requests<3,>=2->langchain) (3.3.2)\r\n",
      "Requirement already satisfied: idna<4,>=2.5 in ./venv/lib/python3.11/site-packages (from requests<3,>=2->langchain) (3.10)\r\n",
      "Requirement already satisfied: urllib3<3,>=1.21.1 in ./venv/lib/python3.11/site-packages (from requests<3,>=2->langchain) (2.2.3)\r\n",
      "Requirement already satisfied: certifi>=2017.4.17 in ./venv/lib/python3.11/site-packages (from requests<3,>=2->langchain) (2024.8.30)\r\n",
      "Requirement already satisfied: anyio in ./venv/lib/python3.11/site-packages (from httpx<1,>=0.23.0->langsmith<0.2.0,>=0.1.17->langchain) (4.6.0)\r\n",
      "Requirement already satisfied: httpcore==1.* in ./venv/lib/python3.11/site-packages (from httpx<1,>=0.23.0->langsmith<0.2.0,>=0.1.17->langchain) (1.0.5)\r\n",
      "Requirement already satisfied: sniffio in ./venv/lib/python3.11/site-packages (from httpx<1,>=0.23.0->langsmith<0.2.0,>=0.1.17->langchain) (1.3.1)\r\n",
      "Requirement already satisfied: h11<0.15,>=0.13 in ./venv/lib/python3.11/site-packages (from httpcore==1.*->httpx<1,>=0.23.0->langsmith<0.2.0,>=0.1.17->langchain) (0.14.0)\r\n",
      "Requirement already satisfied: jsonpointer>=1.9 in ./venv/lib/python3.11/site-packages (from jsonpatch<2.0,>=1.33->langchain-core<0.3.0,>=0.2.38->langchain) (3.0.0)\r\n",
      "\r\n",
      "\u001B[1m[\u001B[0m\u001B[34;49mnotice\u001B[0m\u001B[1;39;49m]\u001B[0m\u001B[39;49m A new release of pip is available: \u001B[0m\u001B[31;49m23.2.1\u001B[0m\u001B[39;49m -> \u001B[0m\u001B[32;49m24.2\u001B[0m\r\n",
      "\u001B[1m[\u001B[0m\u001B[34;49mnotice\u001B[0m\u001B[1;39;49m]\u001B[0m\u001B[39;49m To update, run: \u001B[0m\u001B[32;49mpip install --upgrade pip\u001B[0m\r\n",
      "Requirement already satisfied: langchain-community in ./venv/lib/python3.11/site-packages (0.2.17)\r\n",
      "Requirement already satisfied: PyYAML>=5.3 in ./venv/lib/python3.11/site-packages (from langchain-community) (6.0.2)\r\n",
      "Requirement already satisfied: SQLAlchemy<3,>=1.4 in ./venv/lib/python3.11/site-packages (from langchain-community) (2.0.35)\r\n",
      "Requirement already satisfied: aiohttp<4.0.0,>=3.8.3 in ./venv/lib/python3.11/site-packages (from langchain-community) (3.10.8)\r\n",
      "Requirement already satisfied: dataclasses-json<0.7,>=0.5.7 in ./venv/lib/python3.11/site-packages (from langchain-community) (0.5.14)\r\n",
      "Requirement already satisfied: langchain<0.3.0,>=0.2.16 in ./venv/lib/python3.11/site-packages (from langchain-community) (0.2.16)\r\n",
      "Requirement already satisfied: langchain-core<0.3.0,>=0.2.39 in ./venv/lib/python3.11/site-packages (from langchain-community) (0.2.41)\r\n",
      "Requirement already satisfied: langsmith<0.2.0,>=0.1.112 in ./venv/lib/python3.11/site-packages (from langchain-community) (0.1.129)\r\n",
      "Requirement already satisfied: numpy<2,>=1 in ./venv/lib/python3.11/site-packages (from langchain-community) (1.26.4)\r\n",
      "Requirement already satisfied: requests<3,>=2 in ./venv/lib/python3.11/site-packages (from langchain-community) (2.32.3)\r\n",
      "Requirement already satisfied: tenacity!=8.4.0,<9.0.0,>=8.1.0 in ./venv/lib/python3.11/site-packages (from langchain-community) (8.5.0)\r\n",
      "Requirement already satisfied: aiohappyeyeballs>=2.3.0 in ./venv/lib/python3.11/site-packages (from aiohttp<4.0.0,>=3.8.3->langchain-community) (2.4.3)\r\n",
      "Requirement already satisfied: aiosignal>=1.1.2 in ./venv/lib/python3.11/site-packages (from aiohttp<4.0.0,>=3.8.3->langchain-community) (1.3.1)\r\n",
      "Requirement already satisfied: attrs>=17.3.0 in ./venv/lib/python3.11/site-packages (from aiohttp<4.0.0,>=3.8.3->langchain-community) (24.2.0)\r\n",
      "Requirement already satisfied: frozenlist>=1.1.1 in ./venv/lib/python3.11/site-packages (from aiohttp<4.0.0,>=3.8.3->langchain-community) (1.4.1)\r\n",
      "Requirement already satisfied: multidict<7.0,>=4.5 in ./venv/lib/python3.11/site-packages (from aiohttp<4.0.0,>=3.8.3->langchain-community) (6.1.0)\r\n",
      "Requirement already satisfied: yarl<2.0,>=1.12.0 in ./venv/lib/python3.11/site-packages (from aiohttp<4.0.0,>=3.8.3->langchain-community) (1.13.1)\r\n",
      "Requirement already satisfied: marshmallow<4.0.0,>=3.18.0 in ./venv/lib/python3.11/site-packages (from dataclasses-json<0.7,>=0.5.7->langchain-community) (3.22.0)\r\n",
      "Requirement already satisfied: typing-inspect<1,>=0.4.0 in ./venv/lib/python3.11/site-packages (from dataclasses-json<0.7,>=0.5.7->langchain-community) (0.9.0)\r\n",
      "Requirement already satisfied: langchain-text-splitters<0.3.0,>=0.2.0 in ./venv/lib/python3.11/site-packages (from langchain<0.3.0,>=0.2.16->langchain-community) (0.2.4)\r\n",
      "Requirement already satisfied: pydantic<3,>=1 in ./venv/lib/python3.11/site-packages (from langchain<0.3.0,>=0.2.16->langchain-community) (2.9.2)\r\n",
      "Requirement already satisfied: jsonpatch<2.0,>=1.33 in ./venv/lib/python3.11/site-packages (from langchain-core<0.3.0,>=0.2.39->langchain-community) (1.33)\r\n",
      "Requirement already satisfied: packaging<25,>=23.2 in ./venv/lib/python3.11/site-packages (from langchain-core<0.3.0,>=0.2.39->langchain-community) (24.1)\r\n",
      "Requirement already satisfied: typing-extensions>=4.7 in ./venv/lib/python3.11/site-packages (from langchain-core<0.3.0,>=0.2.39->langchain-community) (4.12.2)\r\n",
      "Requirement already satisfied: httpx<1,>=0.23.0 in ./venv/lib/python3.11/site-packages (from langsmith<0.2.0,>=0.1.112->langchain-community) (0.27.2)\r\n",
      "Requirement already satisfied: orjson<4.0.0,>=3.9.14 in ./venv/lib/python3.11/site-packages (from langsmith<0.2.0,>=0.1.112->langchain-community) (3.10.7)\r\n",
      "Requirement already satisfied: charset-normalizer<4,>=2 in ./venv/lib/python3.11/site-packages (from requests<3,>=2->langchain-community) (3.3.2)\r\n",
      "Requirement already satisfied: idna<4,>=2.5 in ./venv/lib/python3.11/site-packages (from requests<3,>=2->langchain-community) (3.10)\r\n",
      "Requirement already satisfied: urllib3<3,>=1.21.1 in ./venv/lib/python3.11/site-packages (from requests<3,>=2->langchain-community) (2.2.3)\r\n",
      "Requirement already satisfied: certifi>=2017.4.17 in ./venv/lib/python3.11/site-packages (from requests<3,>=2->langchain-community) (2024.8.30)\r\n",
      "Requirement already satisfied: anyio in ./venv/lib/python3.11/site-packages (from httpx<1,>=0.23.0->langsmith<0.2.0,>=0.1.112->langchain-community) (4.6.0)\r\n",
      "Requirement already satisfied: httpcore==1.* in ./venv/lib/python3.11/site-packages (from httpx<1,>=0.23.0->langsmith<0.2.0,>=0.1.112->langchain-community) (1.0.5)\r\n",
      "Requirement already satisfied: sniffio in ./venv/lib/python3.11/site-packages (from httpx<1,>=0.23.0->langsmith<0.2.0,>=0.1.112->langchain-community) (1.3.1)\r\n",
      "Requirement already satisfied: h11<0.15,>=0.13 in ./venv/lib/python3.11/site-packages (from httpcore==1.*->httpx<1,>=0.23.0->langsmith<0.2.0,>=0.1.112->langchain-community) (0.14.0)\r\n",
      "Requirement already satisfied: jsonpointer>=1.9 in ./venv/lib/python3.11/site-packages (from jsonpatch<2.0,>=1.33->langchain-core<0.3.0,>=0.2.39->langchain-community) (3.0.0)\r\n",
      "Requirement already satisfied: annotated-types>=0.6.0 in ./venv/lib/python3.11/site-packages (from pydantic<3,>=1->langchain<0.3.0,>=0.2.16->langchain-community) (0.7.0)\r\n",
      "Requirement already satisfied: pydantic-core==2.23.4 in ./venv/lib/python3.11/site-packages (from pydantic<3,>=1->langchain<0.3.0,>=0.2.16->langchain-community) (2.23.4)\r\n",
      "Requirement already satisfied: mypy-extensions>=0.3.0 in ./venv/lib/python3.11/site-packages (from typing-inspect<1,>=0.4.0->dataclasses-json<0.7,>=0.5.7->langchain-community) (1.0.0)\r\n",
      "\r\n",
      "\u001B[1m[\u001B[0m\u001B[34;49mnotice\u001B[0m\u001B[1;39;49m]\u001B[0m\u001B[39;49m A new release of pip is available: \u001B[0m\u001B[31;49m23.2.1\u001B[0m\u001B[39;49m -> \u001B[0m\u001B[32;49m24.2\u001B[0m\r\n",
      "\u001B[1m[\u001B[0m\u001B[34;49mnotice\u001B[0m\u001B[1;39;49m]\u001B[0m\u001B[39;49m To update, run: \u001B[0m\u001B[32;49mpip install --upgrade pip\u001B[0m\r\n",
      "Requirement already satisfied: langchain-openai in ./venv/lib/python3.11/site-packages (0.1.25)\r\n",
      "Requirement already satisfied: langchain-core<0.3.0,>=0.2.40 in ./venv/lib/python3.11/site-packages (from langchain-openai) (0.2.41)\r\n",
      "Requirement already satisfied: openai<2.0.0,>=1.40.0 in ./venv/lib/python3.11/site-packages (from langchain-openai) (1.50.2)\r\n",
      "Requirement already satisfied: tiktoken<1,>=0.7 in ./venv/lib/python3.11/site-packages (from langchain-openai) (0.7.0)\r\n",
      "Requirement already satisfied: PyYAML>=5.3 in ./venv/lib/python3.11/site-packages (from langchain-core<0.3.0,>=0.2.40->langchain-openai) (6.0.2)\r\n",
      "Requirement already satisfied: jsonpatch<2.0,>=1.33 in ./venv/lib/python3.11/site-packages (from langchain-core<0.3.0,>=0.2.40->langchain-openai) (1.33)\r\n",
      "Requirement already satisfied: langsmith<0.2.0,>=0.1.112 in ./venv/lib/python3.11/site-packages (from langchain-core<0.3.0,>=0.2.40->langchain-openai) (0.1.129)\r\n",
      "Requirement already satisfied: packaging<25,>=23.2 in ./venv/lib/python3.11/site-packages (from langchain-core<0.3.0,>=0.2.40->langchain-openai) (24.1)\r\n",
      "Requirement already satisfied: pydantic<3,>=1 in ./venv/lib/python3.11/site-packages (from langchain-core<0.3.0,>=0.2.40->langchain-openai) (2.9.2)\r\n",
      "Requirement already satisfied: tenacity!=8.4.0,<9.0.0,>=8.1.0 in ./venv/lib/python3.11/site-packages (from langchain-core<0.3.0,>=0.2.40->langchain-openai) (8.5.0)\r\n",
      "Requirement already satisfied: typing-extensions>=4.7 in ./venv/lib/python3.11/site-packages (from langchain-core<0.3.0,>=0.2.40->langchain-openai) (4.12.2)\r\n",
      "Requirement already satisfied: anyio<5,>=3.5.0 in ./venv/lib/python3.11/site-packages (from openai<2.0.0,>=1.40.0->langchain-openai) (4.6.0)\r\n",
      "Requirement already satisfied: distro<2,>=1.7.0 in ./venv/lib/python3.11/site-packages (from openai<2.0.0,>=1.40.0->langchain-openai) (1.9.0)\r\n",
      "Requirement already satisfied: httpx<1,>=0.23.0 in ./venv/lib/python3.11/site-packages (from openai<2.0.0,>=1.40.0->langchain-openai) (0.27.2)\r\n",
      "Requirement already satisfied: jiter<1,>=0.4.0 in ./venv/lib/python3.11/site-packages (from openai<2.0.0,>=1.40.0->langchain-openai) (0.5.0)\r\n",
      "Requirement already satisfied: sniffio in ./venv/lib/python3.11/site-packages (from openai<2.0.0,>=1.40.0->langchain-openai) (1.3.1)\r\n",
      "Requirement already satisfied: tqdm>4 in ./venv/lib/python3.11/site-packages (from openai<2.0.0,>=1.40.0->langchain-openai) (4.66.5)\r\n",
      "Requirement already satisfied: regex>=2022.1.18 in ./venv/lib/python3.11/site-packages (from tiktoken<1,>=0.7->langchain-openai) (2024.9.11)\r\n",
      "Requirement already satisfied: requests>=2.26.0 in ./venv/lib/python3.11/site-packages (from tiktoken<1,>=0.7->langchain-openai) (2.32.3)\r\n",
      "Requirement already satisfied: idna>=2.8 in ./venv/lib/python3.11/site-packages (from anyio<5,>=3.5.0->openai<2.0.0,>=1.40.0->langchain-openai) (3.10)\r\n",
      "Requirement already satisfied: certifi in ./venv/lib/python3.11/site-packages (from httpx<1,>=0.23.0->openai<2.0.0,>=1.40.0->langchain-openai) (2024.8.30)\r\n",
      "Requirement already satisfied: httpcore==1.* in ./venv/lib/python3.11/site-packages (from httpx<1,>=0.23.0->openai<2.0.0,>=1.40.0->langchain-openai) (1.0.5)\r\n",
      "Requirement already satisfied: h11<0.15,>=0.13 in ./venv/lib/python3.11/site-packages (from httpcore==1.*->httpx<1,>=0.23.0->openai<2.0.0,>=1.40.0->langchain-openai) (0.14.0)\r\n",
      "Requirement already satisfied: jsonpointer>=1.9 in ./venv/lib/python3.11/site-packages (from jsonpatch<2.0,>=1.33->langchain-core<0.3.0,>=0.2.40->langchain-openai) (3.0.0)\r\n",
      "Requirement already satisfied: orjson<4.0.0,>=3.9.14 in ./venv/lib/python3.11/site-packages (from langsmith<0.2.0,>=0.1.112->langchain-core<0.3.0,>=0.2.40->langchain-openai) (3.10.7)\r\n",
      "Requirement already satisfied: annotated-types>=0.6.0 in ./venv/lib/python3.11/site-packages (from pydantic<3,>=1->langchain-core<0.3.0,>=0.2.40->langchain-openai) (0.7.0)\r\n",
      "Requirement already satisfied: pydantic-core==2.23.4 in ./venv/lib/python3.11/site-packages (from pydantic<3,>=1->langchain-core<0.3.0,>=0.2.40->langchain-openai) (2.23.4)\r\n",
      "Requirement already satisfied: charset-normalizer<4,>=2 in ./venv/lib/python3.11/site-packages (from requests>=2.26.0->tiktoken<1,>=0.7->langchain-openai) (3.3.2)\r\n",
      "Requirement already satisfied: urllib3<3,>=1.21.1 in ./venv/lib/python3.11/site-packages (from requests>=2.26.0->tiktoken<1,>=0.7->langchain-openai) (2.2.3)\r\n",
      "\r\n",
      "\u001B[1m[\u001B[0m\u001B[34;49mnotice\u001B[0m\u001B[1;39;49m]\u001B[0m\u001B[39;49m A new release of pip is available: \u001B[0m\u001B[31;49m23.2.1\u001B[0m\u001B[39;49m -> \u001B[0m\u001B[32;49m24.2\u001B[0m\r\n",
      "\u001B[1m[\u001B[0m\u001B[34;49mnotice\u001B[0m\u001B[1;39;49m]\u001B[0m\u001B[39;49m To update, run: \u001B[0m\u001B[32;49mpip install --upgrade pip\u001B[0m\r\n",
      "Requirement already satisfied: ragas in ./venv/lib/python3.11/site-packages (0.1.20)\r\n",
      "Requirement already satisfied: numpy in ./venv/lib/python3.11/site-packages (from ragas) (1.26.4)\r\n",
      "Requirement already satisfied: datasets in ./venv/lib/python3.11/site-packages (from ragas) (2.21.0)\r\n",
      "Requirement already satisfied: tiktoken in ./venv/lib/python3.11/site-packages (from ragas) (0.7.0)\r\n",
      "Requirement already satisfied: langchain in ./venv/lib/python3.11/site-packages (from ragas) (0.2.16)\r\n",
      "Requirement already satisfied: langchain-core<0.3 in ./venv/lib/python3.11/site-packages (from ragas) (0.2.41)\r\n",
      "Requirement already satisfied: langchain-community in ./venv/lib/python3.11/site-packages (from ragas) (0.2.17)\r\n",
      "Requirement already satisfied: langchain-openai in ./venv/lib/python3.11/site-packages (from ragas) (0.1.25)\r\n",
      "Requirement already satisfied: openai>1 in ./venv/lib/python3.11/site-packages (from ragas) (1.50.2)\r\n",
      "Requirement already satisfied: pysbd>=0.3.4 in ./venv/lib/python3.11/site-packages (from ragas) (0.3.4)\r\n",
      "Requirement already satisfied: nest-asyncio in ./venv/lib/python3.11/site-packages (from ragas) (1.6.0)\r\n",
      "Requirement already satisfied: appdirs in ./venv/lib/python3.11/site-packages (from ragas) (1.4.4)\r\n",
      "Requirement already satisfied: PyYAML>=5.3 in ./venv/lib/python3.11/site-packages (from langchain-core<0.3->ragas) (6.0.2)\r\n",
      "Requirement already satisfied: jsonpatch<2.0,>=1.33 in ./venv/lib/python3.11/site-packages (from langchain-core<0.3->ragas) (1.33)\r\n",
      "Requirement already satisfied: langsmith<0.2.0,>=0.1.112 in ./venv/lib/python3.11/site-packages (from langchain-core<0.3->ragas) (0.1.129)\r\n",
      "Requirement already satisfied: packaging<25,>=23.2 in ./venv/lib/python3.11/site-packages (from langchain-core<0.3->ragas) (24.1)\r\n",
      "Requirement already satisfied: pydantic<3,>=1 in ./venv/lib/python3.11/site-packages (from langchain-core<0.3->ragas) (2.9.2)\r\n",
      "Requirement already satisfied: tenacity!=8.4.0,<9.0.0,>=8.1.0 in ./venv/lib/python3.11/site-packages (from langchain-core<0.3->ragas) (8.5.0)\r\n",
      "Requirement already satisfied: typing-extensions>=4.7 in ./venv/lib/python3.11/site-packages (from langchain-core<0.3->ragas) (4.12.2)\r\n",
      "Requirement already satisfied: anyio<5,>=3.5.0 in ./venv/lib/python3.11/site-packages (from openai>1->ragas) (4.6.0)\r\n",
      "Requirement already satisfied: distro<2,>=1.7.0 in ./venv/lib/python3.11/site-packages (from openai>1->ragas) (1.9.0)\r\n",
      "Requirement already satisfied: httpx<1,>=0.23.0 in ./venv/lib/python3.11/site-packages (from openai>1->ragas) (0.27.2)\r\n",
      "Requirement already satisfied: jiter<1,>=0.4.0 in ./venv/lib/python3.11/site-packages (from openai>1->ragas) (0.5.0)\r\n",
      "Requirement already satisfied: sniffio in ./venv/lib/python3.11/site-packages (from openai>1->ragas) (1.3.1)\r\n",
      "Requirement already satisfied: tqdm>4 in ./venv/lib/python3.11/site-packages (from openai>1->ragas) (4.66.5)\r\n",
      "Requirement already satisfied: filelock in ./venv/lib/python3.11/site-packages (from datasets->ragas) (3.16.1)\r\n",
      "Requirement already satisfied: pyarrow>=15.0.0 in ./venv/lib/python3.11/site-packages (from datasets->ragas) (16.1.0)\r\n",
      "Requirement already satisfied: dill<0.3.9,>=0.3.0 in ./venv/lib/python3.11/site-packages (from datasets->ragas) (0.3.8)\r\n",
      "Requirement already satisfied: pandas in ./venv/lib/python3.11/site-packages (from datasets->ragas) (2.2.3)\r\n",
      "Requirement already satisfied: requests>=2.32.2 in ./venv/lib/python3.11/site-packages (from datasets->ragas) (2.32.3)\r\n",
      "Requirement already satisfied: xxhash in ./venv/lib/python3.11/site-packages (from datasets->ragas) (3.5.0)\r\n",
      "Requirement already satisfied: multiprocess in ./venv/lib/python3.11/site-packages (from datasets->ragas) (0.70.16)\r\n",
      "Requirement already satisfied: fsspec[http]<=2024.6.1,>=2023.1.0 in ./venv/lib/python3.11/site-packages (from datasets->ragas) (2024.6.1)\r\n",
      "Requirement already satisfied: aiohttp in ./venv/lib/python3.11/site-packages (from datasets->ragas) (3.10.8)\r\n",
      "Requirement already satisfied: huggingface-hub>=0.21.2 in ./venv/lib/python3.11/site-packages (from datasets->ragas) (0.25.1)\r\n",
      "Requirement already satisfied: SQLAlchemy<3,>=1.4 in ./venv/lib/python3.11/site-packages (from langchain->ragas) (2.0.35)\r\n",
      "Requirement already satisfied: langchain-text-splitters<0.3.0,>=0.2.0 in ./venv/lib/python3.11/site-packages (from langchain->ragas) (0.2.4)\r\n",
      "Requirement already satisfied: dataclasses-json<0.7,>=0.5.7 in ./venv/lib/python3.11/site-packages (from langchain-community->ragas) (0.5.14)\r\n",
      "Requirement already satisfied: regex>=2022.1.18 in ./venv/lib/python3.11/site-packages (from tiktoken->ragas) (2024.9.11)\r\n",
      "Requirement already satisfied: aiohappyeyeballs>=2.3.0 in ./venv/lib/python3.11/site-packages (from aiohttp->datasets->ragas) (2.4.3)\r\n",
      "Requirement already satisfied: aiosignal>=1.1.2 in ./venv/lib/python3.11/site-packages (from aiohttp->datasets->ragas) (1.3.1)\r\n",
      "Requirement already satisfied: attrs>=17.3.0 in ./venv/lib/python3.11/site-packages (from aiohttp->datasets->ragas) (24.2.0)\r\n",
      "Requirement already satisfied: frozenlist>=1.1.1 in ./venv/lib/python3.11/site-packages (from aiohttp->datasets->ragas) (1.4.1)\r\n",
      "Requirement already satisfied: multidict<7.0,>=4.5 in ./venv/lib/python3.11/site-packages (from aiohttp->datasets->ragas) (6.1.0)\r\n",
      "Requirement already satisfied: yarl<2.0,>=1.12.0 in ./venv/lib/python3.11/site-packages (from aiohttp->datasets->ragas) (1.13.1)\r\n",
      "Requirement already satisfied: idna>=2.8 in ./venv/lib/python3.11/site-packages (from anyio<5,>=3.5.0->openai>1->ragas) (3.10)\r\n",
      "Requirement already satisfied: marshmallow<4.0.0,>=3.18.0 in ./venv/lib/python3.11/site-packages (from dataclasses-json<0.7,>=0.5.7->langchain-community->ragas) (3.22.0)\r\n",
      "Requirement already satisfied: typing-inspect<1,>=0.4.0 in ./venv/lib/python3.11/site-packages (from dataclasses-json<0.7,>=0.5.7->langchain-community->ragas) (0.9.0)\r\n",
      "Requirement already satisfied: certifi in ./venv/lib/python3.11/site-packages (from httpx<1,>=0.23.0->openai>1->ragas) (2024.8.30)\r\n",
      "Requirement already satisfied: httpcore==1.* in ./venv/lib/python3.11/site-packages (from httpx<1,>=0.23.0->openai>1->ragas) (1.0.5)\r\n",
      "Requirement already satisfied: h11<0.15,>=0.13 in ./venv/lib/python3.11/site-packages (from httpcore==1.*->httpx<1,>=0.23.0->openai>1->ragas) (0.14.0)\r\n",
      "Requirement already satisfied: jsonpointer>=1.9 in ./venv/lib/python3.11/site-packages (from jsonpatch<2.0,>=1.33->langchain-core<0.3->ragas) (3.0.0)\r\n",
      "Requirement already satisfied: orjson<4.0.0,>=3.9.14 in ./venv/lib/python3.11/site-packages (from langsmith<0.2.0,>=0.1.112->langchain-core<0.3->ragas) (3.10.7)\r\n",
      "Requirement already satisfied: annotated-types>=0.6.0 in ./venv/lib/python3.11/site-packages (from pydantic<3,>=1->langchain-core<0.3->ragas) (0.7.0)\r\n",
      "Requirement already satisfied: pydantic-core==2.23.4 in ./venv/lib/python3.11/site-packages (from pydantic<3,>=1->langchain-core<0.3->ragas) (2.23.4)\r\n",
      "Requirement already satisfied: charset-normalizer<4,>=2 in ./venv/lib/python3.11/site-packages (from requests>=2.32.2->datasets->ragas) (3.3.2)\r\n",
      "Requirement already satisfied: urllib3<3,>=1.21.1 in ./venv/lib/python3.11/site-packages (from requests>=2.32.2->datasets->ragas) (2.2.3)\r\n",
      "Requirement already satisfied: python-dateutil>=2.8.2 in ./venv/lib/python3.11/site-packages (from pandas->datasets->ragas) (2.9.0.post0)\r\n",
      "Requirement already satisfied: pytz>=2020.1 in ./venv/lib/python3.11/site-packages (from pandas->datasets->ragas) (2024.2)\r\n",
      "Requirement already satisfied: tzdata>=2022.7 in ./venv/lib/python3.11/site-packages (from pandas->datasets->ragas) (2024.2)\r\n",
      "Requirement already satisfied: six>=1.5 in ./venv/lib/python3.11/site-packages (from python-dateutil>=2.8.2->pandas->datasets->ragas) (1.16.0)\r\n",
      "Requirement already satisfied: mypy-extensions>=0.3.0 in ./venv/lib/python3.11/site-packages (from typing-inspect<1,>=0.4.0->dataclasses-json<0.7,>=0.5.7->langchain-community->ragas) (1.0.0)\r\n",
      "\r\n",
      "\u001B[1m[\u001B[0m\u001B[34;49mnotice\u001B[0m\u001B[1;39;49m]\u001B[0m\u001B[39;49m A new release of pip is available: \u001B[0m\u001B[31;49m23.2.1\u001B[0m\u001B[39;49m -> \u001B[0m\u001B[32;49m24.2\u001B[0m\r\n",
      "\u001B[1m[\u001B[0m\u001B[34;49mnotice\u001B[0m\u001B[1;39;49m]\u001B[0m\u001B[39;49m To update, run: \u001B[0m\u001B[32;49mpip install --upgrade pip\u001B[0m\r\n"
     ]
    }
   ],
   "execution_count": 1
  },
  {
   "cell_type": "code",
   "id": "initial_id",
   "metadata": {
    "tags": [],
    "ExecuteTime": {
     "end_time": "2024-10-01T17:44:25.680828Z",
     "start_time": "2024-10-01T17:44:25.677134Z"
    }
   },
   "source": [
    "from dotenv import load_dotenv\n",
    "import os\n",
    "\n",
    "load_dotenv()\n",
    "\n",
    "# Access the variables\n",
    "openai_api_key = os.getenv('OPENAI_API_KEY')\n",
    "data_dir = os.getenv('DATA_DIR')\n",
    "output_dir = os.getenv('OUTPUT_DIR')\n"
   ],
   "outputs": [],
   "execution_count": 3
  },
  {
   "metadata": {
    "ExecuteTime": {
     "end_time": "2024-10-01T20:31:53.051612Z",
     "start_time": "2024-10-01T20:31:53.040097Z"
    }
   },
   "cell_type": "code",
   "source": [
    "from datasets import Dataset, load_dataset\n",
    "import pandas as pd\n",
    "\n",
    "answerset_json =f\"{output_dir}/answerset.json\"\n",
    "answers = Dataset.from_pandas(pd.read_json(answerset_json).drop(columns=[\"__index_level_0__\"]))\n",
    "answers"
   ],
   "id": "ce57565aa5dbe38d",
   "outputs": [
    {
     "data": {
      "text/plain": [
       "Dataset({\n",
       "    features: ['question', 'contexts', 'ground_truth', 'evolution_type', 'metadata', 'episode_done', 'answer', '__index_level_0__'],\n",
       "    num_rows: 20\n",
       "})"
      ]
     },
     "execution_count": 20,
     "metadata": {},
     "output_type": "execute_result"
    }
   ],
   "execution_count": 20
  },
  {
   "cell_type": "code",
   "id": "11d4937c975ba892",
   "metadata": {
    "ExecuteTime": {
     "end_time": "2024-10-01T20:32:50.791574Z",
     "start_time": "2024-10-01T20:32:50.687520Z"
    }
   },
   "source": [
    "from ragas import evaluate\n",
    "from ragas.metrics import (\n",
    "    faithfulness,\n",
    "    answer_relevancy,\n",
    "    answer_correctness,\n",
    ")\n",
    "\n",
    "metrics = [\n",
    "    faithfulness,\n",
    "    answer_relevancy,\n",
    "    answer_correctness,\n",
    "]"
   ],
   "outputs": [],
   "execution_count": 21
  },
  {
   "metadata": {
    "ExecuteTime": {
     "end_time": "2024-10-01T20:33:40.558116Z",
     "start_time": "2024-10-01T20:32:53.579429Z"
    }
   },
   "cell_type": "code",
   "source": [
    "eval_result = evaluate(\n",
    "    answers,\n",
    "    metrics=metrics,\n",
    ")\n",
    "eval_result"
   ],
   "id": "ee8cb0657371114d",
   "outputs": [
    {
     "name": "stderr",
     "output_type": "stream",
     "text": [
      "Evaluating: 100%|██████████| 60/60 [00:46<00:00,  1.29it/s]\n"
     ]
    },
    {
     "data": {
      "text/plain": [
       "{'faithfulness': 0.6998, 'answer_relevancy': 0.9666, 'answer_correctness': 0.7898}"
      ]
     },
     "execution_count": 22,
     "metadata": {},
     "output_type": "execute_result"
    }
   ],
   "execution_count": 22
  },
  {
   "cell_type": "code",
   "id": "54e20bb836f9e90",
   "metadata": {
    "ExecuteTime": {
     "end_time": "2024-10-01T20:34:49.453357Z",
     "start_time": "2024-10-01T20:34:49.449346Z"
    }
   },
   "source": "eval_result_df = eval_result.to_pandas()\n",
   "outputs": [],
   "execution_count": 23
  },
  {
   "cell_type": "code",
   "id": "f229c5a7458d2096",
   "metadata": {
    "ExecuteTime": {
     "end_time": "2024-10-01T20:37:14.798776Z",
     "start_time": "2024-10-01T20:37:14.791418Z"
    }
   },
   "source": "eval_result_df.to_csv(f\"{output_dir}/ragas_eval_result.csv\", index=False, header=True)",
   "outputs": [],
   "execution_count": 25
  },
  {
   "metadata": {},
   "cell_type": "code",
   "source": "",
   "id": "2f5cffd72bdff708",
   "outputs": [],
   "execution_count": null
  }
 ],
 "metadata": {
  "kernelspec": {
   "display_name": "Python 3.9",
   "language": "python",
   "name": "python3"
  },
  "language_info": {
   "codemirror_mode": {
    "name": "ipython",
    "version": 3
   },
   "file_extension": ".py",
   "mimetype": "text/x-python",
   "name": "python",
   "nbconvert_exporter": "python",
   "pygments_lexer": "ipython3",
   "version": "3.9.18"
  }
 },
 "nbformat": 4,
 "nbformat_minor": 5
}
