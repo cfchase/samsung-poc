{
 "cells": [
  {
   "cell_type": "code",
   "id": "initial_id",
   "metadata": {
    "collapsed": true
   },
   "source": [
    "from dotenv import load_dotenv\n",
    "import os\n",
    "\n",
    "load_dotenv()\n",
    "\n",
    "# Access the variables\n",
    "openai_api_key = os.getenv('OPENAI_API_KEY')\n",
    "data_dir = os.getenv('DATA_DIR')\n",
    "\n",
    "print(f\"OpenAI API Key: {openai_api_key}\")\n",
    "print(f\"Data Directory: {data_dir}\")\n"
   ],
   "outputs": [],
   "execution_count": null
  },
  {
   "metadata": {},
   "cell_type": "code",
   "source": [
    "from langchain_community.document_loaders import TextLoader\n",
    "\n",
    "loader = TextLoader(\"data/2q24-cfsu.md\")\n",
    "docs = loader.load()"
   ],
   "id": "152454384faebc0c",
   "outputs": [],
   "execution_count": null
  },
  {
   "metadata": {},
   "cell_type": "code",
   "source": [
    "from langchain_community.document_loaders import DirectoryLoader\n",
    "\n",
    "\n",
    "chunked_loader = DirectoryLoader(\"data/chunked-markdown\", loader_cls=TextLoader, glob=\"**/*.md\")\n",
    "chunked_docs = chunked_loader.load()"
   ],
   "id": "6ae607eec7ab129b",
   "outputs": [],
   "execution_count": null
  },
  {
   "metadata": {},
   "cell_type": "code",
   "source": [
    "from langchain_community.document_loaders import DirectoryLoader, TextLoader\n",
    "\n",
    "loader = DirectoryLoader(data_dir, loader_cls=TextLoader, glob=\"**/*.md\")\n",
    "documents = loader.load()\n",
    "documents"
   ],
   "id": "e3487d4ca7dadc8a",
   "outputs": [],
   "execution_count": null
  },
  {
   "metadata": {},
   "cell_type": "code",
   "source": [
    "from ragas.testset.generator import TestsetGenerator\n",
    "from ragas.testset.evolutions import simple, reasoning, multi_context\n",
    "from langchain_openai import ChatOpenAI, OpenAIEmbeddings\n",
    "\n",
    "# generator with openai models\n",
    "generator_llm = ChatOpenAI(model=\"gpt-3.5-turbo-16k\")\n",
    "critic_llm = ChatOpenAI(model=\"gpt-4\")\n",
    "embeddings = OpenAIEmbeddings()\n",
    "\n",
    "generator = TestsetGenerator.from_langchain(\n",
    "    generator_llm,\n",
    "    critic_llm,\n",
    "    embeddings\n",
    ")\n",
    "\n",
    "# generate testset\n",
    "testset = generator.generate_with_langchain_docs(documents, test_size=20, distributions={simple: 0.5, reasoning: 0.25, multi_context: 0.25})"
   ],
   "id": "c7e046938e3ec643",
   "outputs": [],
   "execution_count": null
  },
  {
   "metadata": {},
   "cell_type": "code",
   "source": "type(testset)",
   "id": "4c07d9fa2b79b71f",
   "outputs": [],
   "execution_count": null
  },
  {
   "metadata": {},
   "cell_type": "code",
   "source": "testset.to_json(\"testset.jsonl\")",
   "id": "68a1b21c7e2f91f9",
   "outputs": [],
   "execution_count": null
  },
  {
   "metadata": {},
   "cell_type": "code",
   "source": "testset.to_json(\"testset.jsonl\")",
   "id": "94d38467dc18ae7b",
   "outputs": [],
   "execution_count": null
  },
  {
   "metadata": {},
   "cell_type": "code",
   "source": "testset.to_json(\"testset.jsonl\")",
   "id": "17b31636e3b7f7e9",
   "outputs": [],
   "execution_count": null
  },
  {
   "metadata": {},
   "cell_type": "code",
   "source": "testset_df = testset.to_pandas()",
   "id": "e3dd07d15c050768",
   "outputs": [],
   "execution_count": null
  },
  {
   "metadata": {},
   "cell_type": "code",
   "source": "testset_df.columns\n",
   "id": "a03bc023e22e3087",
   "outputs": [],
   "execution_count": null
  },
  {
   "metadata": {},
   "cell_type": "code",
   "source": "testset_df.to_json(\"testset.jsonl\")",
   "id": "92a694099203db09",
   "outputs": [],
   "execution_count": null
  },
  {
   "metadata": {},
   "cell_type": "code",
   "source": "",
   "id": "ce9d723b1681cacb",
   "outputs": [],
   "execution_count": null
  },
  {
   "metadata": {},
   "cell_type": "code",
   "source": [
    "from datasets import Dataset\n",
    "\n",
    "Dataset.from_pandas(testset_df).to_json(\"testset.jsonl\")"
   ],
   "id": "84500be03ceb777",
   "outputs": [],
   "execution_count": null
  },
  {
   "metadata": {},
   "cell_type": "code",
   "source": [
    "from dotenv import load_dotenv\n",
    "from datasets import Dataset\n",
    "import os\n",
    "from ragas import evaluate\n",
    "from ragas.metrics import faithfulness, answer_correctness\n",
    "\n",
    "testset_json = os.getenv(\"TESTSET_JSON\", \"testset.jsonl\")\n",
    "\n",
    "testset = Dataset.from_json(testset_json)\n",
    "Dataset.from_generator(testset)\n",
    "\n",
    "score = evaluate(testset, metrics=[faithfulness, answer_correctness])\n",
    "score.to_pandas().to_csv(\"score.csv\",\n",
    "                         index=False,\n",
    "                         header=True)"
   ],
   "id": "bbae3847511615b7",
   "outputs": [],
   "execution_count": null
  }
 ],
 "metadata": {
  "kernelspec": {
   "display_name": "Python 3",
   "language": "python",
   "name": "python3"
  },
  "language_info": {
   "codemirror_mode": {
    "name": "ipython",
    "version": 2
   },
   "file_extension": ".py",
   "mimetype": "text/x-python",
   "name": "python",
   "nbconvert_exporter": "python",
   "pygments_lexer": "ipython2",
   "version": "2.7.6"
  }
 },
 "nbformat": 4,
 "nbformat_minor": 5
}
