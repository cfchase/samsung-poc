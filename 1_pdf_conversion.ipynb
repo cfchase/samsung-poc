{
 "cells": [
  {
   "metadata": {},
   "cell_type": "code",
   "outputs": [],
   "execution_count": null,
   "source": [
    "!pip install instructlab\n",
    "!SETUPTOOLS_SCM_PRETEND_VERSION=0.1 pip install --ignore-installed --upgrade ./sdg\n",
    "# !pip install --upgrade ./sdg\n",
    "!pip install docling-parse==1.13.0\n",
    "!pip install docling~=1.16.1\n"
   ]
  },
  {
   "metadata": {
    "ExecuteTime": {
     "end_time": "2024-10-01T14:05:16.918627Z",
     "start_time": "2024-10-01T14:05:15.367072Z"
    }
   },
   "cell_type": "code",
   "source": [
    "import os\n",
    "import random\n",
    "from datasets import load_dataset\n",
    "from utils.data import postprocess_and_save, pretty_print_dict\n",
    "from instructlab.sdg.utils.docprocessor import DocProcessor"
   ],
   "outputs": [
    {
     "name": "stderr",
     "output_type": "stream",
     "text": [
      "/Users/cchase/git/github/cfchase/samsung-poc/venv/lib/python3.11/site-packages/tqdm/auto.py:21: TqdmWarning: IProgress not found. Please update jupyter and ipywidgets. See https://ipywidgets.readthedocs.io/en/stable/user_install.html\n",
      "  from .autonotebook import tqdm as notebook_tqdm\n"
     ]
    }
   ],
   "execution_count": 1
  },
  {
   "metadata": {},
   "cell_type": "markdown",
   "source": [
    "### Setup Instructions\n",
    "\n",
    "This demo demonstrates the process of converting raw PDF files into InstructLab Synthetic Knowledge Infusion Data using the RBC POC as an example. Follow these steps to get started with your own data.\n",
    "\n",
    "#### Steps to Get Started:\n",
    "\n",
    "1. **Organize Your Documents:**\n",
    "   - Create a new directory under the `document_collection` directory for your specific project. For example, if your project is named \"Samsung,\" your directory structure should look like this:\n",
    "     ```\n",
    "     |-- document_collection\n",
    "     |   `-- Samsung\n",
    "     |       |-- Samsung_data.pdf\n",
    "     |       `-- qna.yaml\n",
    "     ```\n",
    "   - Place all your PDF files and ICL files (like `qna.yaml`) into this directory.\n",
    "\n",
    "2. **Format Your ICLs:**\n",
    "   - Ensure your ICL files contain sufficient context and question-answer pairs. We recommend including at least 5 distinct contexts, each with a minimum of 3 sets of questions and answers. More entries will improve the robustness of your data.\n",
    "    - The ICL file should be in the following format (refer to the `document_collection/Samsung/qna.yaml` file for an example):\n",
    "\n",
    "    ```yaml\n",
    "    domain: \n",
    "    document_outline: A one to two line description of the document\n",
    "    seed_examples:\n",
    "      - context: <context 1 goes here>\n",
    "        question_and_answers:\n",
    "          - question: <question 1 goes here>\n",
    "            answer: <answer 1 goes here>\n",
    "          - question: <question 2 goes here>\n",
    "            answer: <answer 2 goes here>\n",
    "          - question: <question 3 goes here>\n",
    "            answer: <answer 3 goes here>\n",
    "    ... \n",
    "\n",
    "\n",
    "   - **Note:** Replace placeholders with actual content relevant to your documents. Ensure the contexts are clear and questions are well-formulated to extract meaningful answers.\n",
    "\n",
    "3. **Update the Data Directory Path:**\n",
    "   - In the script or code where the data directory is specified, update the `data_dir` variable to reflect the path to your new directory. For example:\n",
    "     ```python\n",
    "     data_dir = \"document_collection/Samsung\"\n",
    "     ```\n",
    "4. **Update the Output Directory Path:**\n",
    "   - In the script or code where the data directory is specified, update the `output_dir` variable to reflect the path to your directory. For example:\n",
    "     ```python\n",
    "     data_dir = \"output/Samsung\"\n",
    "     ```\n",
    "---"
   ]
  },
  {
   "metadata": {},
   "cell_type": "code",
   "outputs": [],
   "execution_count": null,
   "source": [
    "from dotenv import load_dotenv\n",
    "import os\n",
    "\n",
    "load_dotenv()\n",
    "\n",
    "# Access the variables\n",
    "data_dir = os.getenv('DATA_DIR')\n",
    "output_dir = os.getenv('OUTPUT_DIR')\n",
    "os.makedirs(output_dir, exist_ok=True)"
   ]
  },
  {
   "cell_type": "markdown",
   "metadata": {},
   "source": [
    "### PDF Documents to Seed Dataset\n",
    "\n",
    "To convert PDF documents into a usable seed dataset, we employ [Docling](https://github.com/DS4SD/docling), a tool designed for extracting and processing text from PDF files. The text extraction process involves parsing the PDF documents and saving the extracted text into a structured JSON file. The extracted text in JSON format can be used to generate InstructLab Synthetic Knowledge Infusion Data.\n",
    "\n",
    "\n",
    "#### Step 1: \n",
    "\n",
    "Run the following command to extract text from the PDF documents and save it in JSON format:\n",
    "\n",
    "⚠️ **Note:** This process takes about 5 minutes to run for this example\n"
   ]
  },
  {
   "metadata": {
    "ExecuteTime": {
     "end_time": "2024-10-01T14:05:31.271323Z",
     "start_time": "2024-10-01T14:05:17.069313Z"
    }
   },
   "cell_type": "code",
   "source": [
    "!echo $data_dir\n",
    "!python ./sdg/scripts/docparser.py --input-dir {data_dir} --output-dir {output_dir}"
   ],
   "outputs": [
    {
     "name": "stdout",
     "output_type": "stream",
     "text": [
      "document_collection/Samsung2\r\n",
      "Fetching 9 files: 100%|████████████████████████| 9/9 [00:00<00:00, 84072.91it/s]\r\n"
     ]
    }
   ],
   "execution_count": 3
  },
  {
   "cell_type": "markdown",
   "metadata": {},
   "source": [
    "#### Step 2: \n",
    "\n",
    "Now that we have extracted the text from the PDF documents, we can proceed to process the extracted data, we do the following:\n",
    "\n",
    "- Split the extracted text into chunks \n",
    "- Populate user provided ICLs with the chunks "
   ]
  },
  {
   "metadata": {
    "ExecuteTime": {
     "end_time": "2024-10-01T14:05:31.399261Z",
     "start_time": "2024-10-01T14:05:31.277442Z"
    }
   },
   "cell_type": "code",
   "source": "dp = DocProcessor(output_dir, user_config_path=f'{data_dir}/qna.yaml')",
   "outputs": [
    {
     "name": "stderr",
     "output_type": "stream",
     "text": [
      "You are using the default legacy behaviour of the <class 'transformers.models.llama.tokenization_llama_fast.LlamaTokenizerFast'>. This is expected, and simply means that the `legacy` (previous) behavior will be used so nothing changes for you. If you want to use the new behaviour, set `legacy=False`. This should only be set if you understand what it means, and thoroughly read the reason why this was added as explained in https://github.com/huggingface/transformers/pull/24565 - if you loaded a llama tokenizer from a GGUF file you can ignore this message.\n"
     ]
    }
   ],
   "execution_count": 4
  },
  {
   "metadata": {
    "ExecuteTime": {
     "end_time": "2024-10-01T14:05:31.580091Z",
     "start_time": "2024-10-01T14:05:31.409417Z"
    }
   },
   "cell_type": "code",
   "source": [
    "seed_data = dp.get_processed_dataset()\n",
    "seed_data"
   ],
   "outputs": [
    {
     "data": {
      "text/plain": [
       "\u001B[2;36m[10:05:31]\u001B[0m\u001B[2;36m \u001B[0m\u001B[34mINFO    \u001B[0m Processing parsed docling json file: output/Samsung2/Samsung SDS            \u001B]8;id=870390;file:///Users/cchase/git/github/cfchase/samsung-poc/venv/lib/python3.11/site-packages/instructlab/sdg/utils/docprocessor.py\u001B\\\u001B[2mdocprocessor.py\u001B[0m\u001B]8;;\u001B\\\u001B[2m:\u001B[0m\u001B]8;id=556726;file:///Users/cchase/git/github/cfchase/samsung-poc/venv/lib/python3.11/site-packages/instructlab/sdg/utils/docprocessor.py#263\u001B\\\u001B[2m263\u001B[0m\u001B]8;;\u001B\\\n",
       "\u001B[2;36m           \u001B[0m         2024Q2_Script_Eng.json                                                      \u001B[2m                   \u001B[0m\n"
      ],
      "text/html": [
       "<pre style=\"white-space:pre;overflow-x:auto;line-height:normal;font-family:Menlo,'DejaVu Sans Mono',consolas,'Courier New',monospace\"><span style=\"color: #7fbfbf; text-decoration-color: #7fbfbf\">[10:05:31] </span><span style=\"color: #000080; text-decoration-color: #000080\">INFO    </span> Processing parsed docling json file: output/Samsung2/Samsung SDS            <a href=\"file:///Users/cchase/git/github/cfchase/samsung-poc/venv/lib/python3.11/site-packages/instructlab/sdg/utils/docprocessor.py\" target=\"_blank\"><span style=\"color: #7f7f7f; text-decoration-color: #7f7f7f\">docprocessor.py</span></a><span style=\"color: #7f7f7f; text-decoration-color: #7f7f7f\">:</span><a href=\"file:///Users/cchase/git/github/cfchase/samsung-poc/venv/lib/python3.11/site-packages/instructlab/sdg/utils/docprocessor.py#263\" target=\"_blank\"><span style=\"color: #7f7f7f; text-decoration-color: #7f7f7f\">263</span></a>\n",
       "<span style=\"color: #7fbfbf; text-decoration-color: #7fbfbf\">           </span>         2024Q2_Script_Eng.json                                                      <span style=\"color: #7f7f7f; text-decoration-color: #7f7f7f\">                   </span>\n",
       "</pre>\n"
      ]
     },
     "metadata": {},
     "output_type": "display_data"
    },
    {
     "name": "stderr",
     "output_type": "stream",
     "text": [
      "huggingface/tokenizers: The current process just got forked, after parallelism has already been used. Disabling parallelism to avoid deadlocks...\n",
      "To disable this warning, you can either:\n",
      "\t- Avoid using `tokenizers` before the fork if possible\n",
      "Map:   0%|          | 0/14 [00:00<?, ? examples/s]TOKENIZERS_PARALLELISM=(true | false)\n",
      "Map: 100%|██████████| 14/14 [00:00<00:00, 3559.45 examples/s]\n",
      "Map: 100%|██████████| 14/14 [00:00<00:00, 4753.91 examples/s]\n",
      "Map: 100%|██████████| 14/14 [00:00<00:00, 5514.16 examples/s]\n",
      "Map: 100%|██████████| 14/14 [00:00<00:00, 6002.89 examples/s]\n",
      "Map: 100%|██████████| 14/14 [00:00<00:00, 4852.51 examples/s]\n",
      "Map: 100%|██████████| 70/70 [00:00<00:00, 3009.07 examples/s]\n",
      "Filter: 100%|██████████| 70/70 [00:00<00:00, 4118.58 examples/s]\n"
     ]
    },
    {
     "data": {
      "text/plain": [
       "Dataset({\n",
       "    features: ['document_outline', 'document_title', 'domain', 'icl_document', 'icl_query_1', 'icl_response_1', 'icl_query_2', 'icl_response_2', 'icl_query_3', 'icl_response_3', 'document'],\n",
       "    num_rows: 70\n",
       "})"
      ]
     },
     "execution_count": 5,
     "metadata": {},
     "output_type": "execute_result"
    }
   ],
   "execution_count": 5
  },
  {
   "cell_type": "code",
   "metadata": {
    "ExecuteTime": {
     "end_time": "2024-10-01T14:05:31.603836Z",
     "start_time": "2024-10-01T14:05:31.597280Z"
    }
   },
   "source": "seed_data.to_json(f'{output_dir}/seed_data.jsonl', orient='records', lines=True)",
   "outputs": [
    {
     "name": "stderr",
     "output_type": "stream",
     "text": [
      "Creating json from Arrow format: 100%|██████████| 1/1 [00:00<00:00, 478.04ba/s]\n"
     ]
    },
    {
     "data": {
      "text/plain": [
       "344543"
      ]
     },
     "execution_count": 6,
     "metadata": {},
     "output_type": "execute_result"
    }
   ],
   "execution_count": 6
  },
  {
   "cell_type": "code",
   "metadata": {
    "ExecuteTime": {
     "end_time": "2024-10-01T14:05:31.763891Z",
     "start_time": "2024-10-01T14:05:31.619250Z"
    }
   },
   "source": [
    "pretty_print_dict(f'{output_dir}/seed_data.jsonl')"
   ],
   "outputs": [
    {
     "name": "stderr",
     "output_type": "stream",
     "text": [
      "Generating train split: 70 examples [00:00, 30688.96 examples/s]\n"
     ]
    },
    {
     "data": {
      "text/plain": [
       "\u001B[1m{\u001B[0m\n",
       "    \u001B[32m\"document_outline\"\u001B[0m: \u001B[32m\"This is a transcript of Samsung SDS's Q2 2024 earnings conference call.\\n\"\u001B[0m,\n",
       "    \u001B[32m\"document_title\"\u001B[0m: \u001B[32m\"Samsung SDS 2024Q2_Script_Eng\"\u001B[0m,\n",
       "    \u001B[32m\"domain\"\u001B[0m: \u001B[32m\"finance\"\u001B[0m,\n",
       "    \u001B[32m\"icl_document\"\u001B[0m: \u001B[32m\"Now, let us review the Q2 earnings. Please refer to the first page of\\nthe earnings \u001B[0m\n",
       "\u001B[32mpresentation slides.\\n\\nIn Q2, our revenue was KRW 3.37 trillion, a 3.7% increase from the\\nprevious quarter and a \u001B[0m\n",
       "\u001B[32m2.4% increase year-over-year.\\n\\nLooking at the profit, the gross profit was KRW 500 billion, a 1.9%\\nincrease from\u001B[0m\n",
       "\u001B[32mthe previous quarter and a 12.7% improvement\\nyear-over-year. The gross profit margin was 14.8%, a 0.3 \u001B[0m\n",
       "\u001B[32mpercentage\\npoint decrease from the previous quarter but a 1.3 percentage point\\nimprovement \u001B[0m\n",
       "\u001B[32myear-over-year.\\n\\nNext is the operating profit for Q2. Operating profit was KRW 221\\nbillion, a 2% decrease from \u001B[0m\n",
       "\u001B[32mthe previous quarter but a 7% increase\\nyear-over-year. The operating profit margin was 6.6%, a 0.4 \u001B[0m\n",
       "\u001B[32mpercentage\\npoint decrease from the previous quarter but a 0.3 percentage point\\nincrease year-over-year.\\n\\nNet \u001B[0m\n",
       "\u001B[32mprofit was KRW 190 billion, a 12.2% decrease from the previous\\nquarter but an 11.8% increase year-over-year.\\n\"\u001B[0m,\n",
       "    \u001B[32m\"icl_query_1\"\u001B[0m: \u001B[32m\"What was Samsung SDS's revenue in Q2 of 2024?\\n\"\u001B[0m,\n",
       "    \u001B[32m\"icl_response_1\"\u001B[0m: \u001B[32m\"In the 2nd quarter of 2024, Samsung SDS had a revenue of KRW\\n3.37 trillion.\\n\"\u001B[0m,\n",
       "    \u001B[32m\"icl_query_2\"\u001B[0m: \u001B[32m\"For Samsung SDS in the second quarter of 2024, what was the gross\\nprofit?\\n\"\u001B[0m,\n",
       "    \u001B[32m\"icl_response_2\"\u001B[0m: \u001B[32m\"Samsung SDS had a gross profit of KRW 500 billion in Q2 of 2024.\\nThis was a 1.9% increase \u001B[0m\n",
       "\u001B[32mfrom the preceding quarter, and\\nrepresents a 12.7 improvement year-over-year.\\n\"\u001B[0m,\n",
       "    \u001B[32m\"icl_query_3\"\u001B[0m: \u001B[32m\"Did Samsung SDS see net profit growth in Q2 2024?\\n\"\u001B[0m,\n",
       "    \u001B[32m\"icl_response_3\"\u001B[0m: \u001B[32m\"The answer to this is complex. In one sense, net profit grew, but\\nin another sense, it did \u001B[0m\n",
       "\u001B[32mnot grow. Samsung SDS had a net profit of\\nKRW 190 billion in Q2 of 2024. This was a 12.2% decrease from \u001B[0m\n",
       "\u001B[32mthe\\nprevious quarter, so it was not growth based on the previous quarter.\\nHowever, year-over-year this net profit\u001B[0m\n",
       "\u001B[32mrepresents a 11.8% increase\\nyear-over-year, so net profit shows growth year-over-year for Q2 2024.\\n\"\u001B[0m,\n",
       "    \u001B[32m\"document\"\u001B[0m: \u001B[32m\"Net profit was KRW 190 billion, a 12.2% decrease from the previous quarter but an 11.8% increase \u001B[0m\n",
       "\u001B[32myear-over-year.\\n\\nNext, let's review the performance by business division on page 2.\\n\\nFirst, Q2 IT services \u001B[0m\n",
       "\u001B[32mrevenue was KRW 1.59 trillion, a 2.1% increase from the previous quarter and a 5% increase year-over-year. The \u001B[0m\n",
       "\u001B[32mcloud business contributed significantly to this growth, with revenue of KRW 556 billion, a 4.8% increase from the \u001B[0m\n",
       "\u001B[32mprevious quarter and a 25% increase year-over-year. The logistics business revenue was KRW 1.78 trillion, a 5.3% \u001B[0m\n",
       "\u001B[32mincrease from the previous quarter, maintaining the same level as the previous year.\\n\\nThe operating profit for IT\u001B[0m\n",
       "\u001B[32mservices in Q2 was KRW 198 billion, an approximate 17% increase from both the previous quarter and the same period \u001B[0m\n",
       "\u001B[32mlast year. The operating profit margin was 12.5%, a 1.6 percentage point increase from the previous quarter and a \u001B[0m\n",
       "\u001B[32m1.3 percentage point improvement year-over-year.\\n\\nThe logistics business recorded an operating profit of KRW 23 \u001B[0m\n",
       "\u001B[32mbillion with an operating profit margin of 1.3%. The decline in logistics operating profit margin in Q2 is due to \u001B[0m\n",
       "\u001B[32msignificant one-time gains in Q1 and reduced profitability from decreased air transport revenue in Q2.\\n\\nThis \u001B[0m\n",
       "\u001B[32mconcludes the brief overview of Q2 performance.\\n\\nAdditionally, regarding Samsung SDS's ESG, we published and \u001B[0m\n",
       "\u001B[32mdistributed the 2023 Samsung SDS Sustainability Report on our website on June 30, explaining our ESG performance. \u001B[0m\n",
       "\u001B[32mPlease refer to this newly published report to understand our ESG management performance and strategies.\\n\\nNow, \u001B[0m\n",
       "\u001B[32mlet me open the floor for division leaders to explain the performance of Q2 and outline any upcoming plans.\\n\\n## \u001B[0m\n",
       "\u001B[32m**\u001B[0m\u001B[32m[\u001B[0m\u001B[32mStrategic Marketing Office\u001B[0m\u001B[32m]\u001B[0m\u001B[32m**\"\u001B[0m\n",
       "\u001B[1m}\u001B[0m\n"
      ],
      "text/html": [
       "<pre style=\"white-space:pre;overflow-x:auto;line-height:normal;font-family:Menlo,'DejaVu Sans Mono',consolas,'Courier New',monospace\"><span style=\"font-weight: bold\">{</span>\n",
       "    <span style=\"color: #008000; text-decoration-color: #008000\">\"document_outline\"</span>: <span style=\"color: #008000; text-decoration-color: #008000\">\"This is a transcript of Samsung SDS's Q2 2024 earnings conference call.\\n\"</span>,\n",
       "    <span style=\"color: #008000; text-decoration-color: #008000\">\"document_title\"</span>: <span style=\"color: #008000; text-decoration-color: #008000\">\"Samsung SDS 2024Q2_Script_Eng\"</span>,\n",
       "    <span style=\"color: #008000; text-decoration-color: #008000\">\"domain\"</span>: <span style=\"color: #008000; text-decoration-color: #008000\">\"finance\"</span>,\n",
       "    <span style=\"color: #008000; text-decoration-color: #008000\">\"icl_document\"</span>: <span style=\"color: #008000; text-decoration-color: #008000\">\"Now, let us review the Q2 earnings. Please refer to the first page of\\nthe earnings </span>\n",
       "<span style=\"color: #008000; text-decoration-color: #008000\">presentation slides.\\n\\nIn Q2, our revenue was KRW 3.37 trillion, a 3.7% increase from the\\nprevious quarter and a </span>\n",
       "<span style=\"color: #008000; text-decoration-color: #008000\">2.4% increase year-over-year.\\n\\nLooking at the profit, the gross profit was KRW 500 billion, a 1.9%\\nincrease from</span>\n",
       "<span style=\"color: #008000; text-decoration-color: #008000\">the previous quarter and a 12.7% improvement\\nyear-over-year. The gross profit margin was 14.8%, a 0.3 </span>\n",
       "<span style=\"color: #008000; text-decoration-color: #008000\">percentage\\npoint decrease from the previous quarter but a 1.3 percentage point\\nimprovement </span>\n",
       "<span style=\"color: #008000; text-decoration-color: #008000\">year-over-year.\\n\\nNext is the operating profit for Q2. Operating profit was KRW 221\\nbillion, a 2% decrease from </span>\n",
       "<span style=\"color: #008000; text-decoration-color: #008000\">the previous quarter but a 7% increase\\nyear-over-year. The operating profit margin was 6.6%, a 0.4 </span>\n",
       "<span style=\"color: #008000; text-decoration-color: #008000\">percentage\\npoint decrease from the previous quarter but a 0.3 percentage point\\nincrease year-over-year.\\n\\nNet </span>\n",
       "<span style=\"color: #008000; text-decoration-color: #008000\">profit was KRW 190 billion, a 12.2% decrease from the previous\\nquarter but an 11.8% increase year-over-year.\\n\"</span>,\n",
       "    <span style=\"color: #008000; text-decoration-color: #008000\">\"icl_query_1\"</span>: <span style=\"color: #008000; text-decoration-color: #008000\">\"What was Samsung SDS's revenue in Q2 of 2024?\\n\"</span>,\n",
       "    <span style=\"color: #008000; text-decoration-color: #008000\">\"icl_response_1\"</span>: <span style=\"color: #008000; text-decoration-color: #008000\">\"In the 2nd quarter of 2024, Samsung SDS had a revenue of KRW\\n3.37 trillion.\\n\"</span>,\n",
       "    <span style=\"color: #008000; text-decoration-color: #008000\">\"icl_query_2\"</span>: <span style=\"color: #008000; text-decoration-color: #008000\">\"For Samsung SDS in the second quarter of 2024, what was the gross\\nprofit?\\n\"</span>,\n",
       "    <span style=\"color: #008000; text-decoration-color: #008000\">\"icl_response_2\"</span>: <span style=\"color: #008000; text-decoration-color: #008000\">\"Samsung SDS had a gross profit of KRW 500 billion in Q2 of 2024.\\nThis was a 1.9% increase </span>\n",
       "<span style=\"color: #008000; text-decoration-color: #008000\">from the preceding quarter, and\\nrepresents a 12.7 improvement year-over-year.\\n\"</span>,\n",
       "    <span style=\"color: #008000; text-decoration-color: #008000\">\"icl_query_3\"</span>: <span style=\"color: #008000; text-decoration-color: #008000\">\"Did Samsung SDS see net profit growth in Q2 2024?\\n\"</span>,\n",
       "    <span style=\"color: #008000; text-decoration-color: #008000\">\"icl_response_3\"</span>: <span style=\"color: #008000; text-decoration-color: #008000\">\"The answer to this is complex. In one sense, net profit grew, but\\nin another sense, it did </span>\n",
       "<span style=\"color: #008000; text-decoration-color: #008000\">not grow. Samsung SDS had a net profit of\\nKRW 190 billion in Q2 of 2024. This was a 12.2% decrease from </span>\n",
       "<span style=\"color: #008000; text-decoration-color: #008000\">the\\nprevious quarter, so it was not growth based on the previous quarter.\\nHowever, year-over-year this net profit</span>\n",
       "<span style=\"color: #008000; text-decoration-color: #008000\">represents a 11.8% increase\\nyear-over-year, so net profit shows growth year-over-year for Q2 2024.\\n\"</span>,\n",
       "    <span style=\"color: #008000; text-decoration-color: #008000\">\"document\"</span>: <span style=\"color: #008000; text-decoration-color: #008000\">\"Net profit was KRW 190 billion, a 12.2% decrease from the previous quarter but an 11.8% increase </span>\n",
       "<span style=\"color: #008000; text-decoration-color: #008000\">year-over-year.\\n\\nNext, let's review the performance by business division on page 2.\\n\\nFirst, Q2 IT services </span>\n",
       "<span style=\"color: #008000; text-decoration-color: #008000\">revenue was KRW 1.59 trillion, a 2.1% increase from the previous quarter and a 5% increase year-over-year. The </span>\n",
       "<span style=\"color: #008000; text-decoration-color: #008000\">cloud business contributed significantly to this growth, with revenue of KRW 556 billion, a 4.8% increase from the </span>\n",
       "<span style=\"color: #008000; text-decoration-color: #008000\">previous quarter and a 25% increase year-over-year. The logistics business revenue was KRW 1.78 trillion, a 5.3% </span>\n",
       "<span style=\"color: #008000; text-decoration-color: #008000\">increase from the previous quarter, maintaining the same level as the previous year.\\n\\nThe operating profit for IT</span>\n",
       "<span style=\"color: #008000; text-decoration-color: #008000\">services in Q2 was KRW 198 billion, an approximate 17% increase from both the previous quarter and the same period </span>\n",
       "<span style=\"color: #008000; text-decoration-color: #008000\">last year. The operating profit margin was 12.5%, a 1.6 percentage point increase from the previous quarter and a </span>\n",
       "<span style=\"color: #008000; text-decoration-color: #008000\">1.3 percentage point improvement year-over-year.\\n\\nThe logistics business recorded an operating profit of KRW 23 </span>\n",
       "<span style=\"color: #008000; text-decoration-color: #008000\">billion with an operating profit margin of 1.3%. The decline in logistics operating profit margin in Q2 is due to </span>\n",
       "<span style=\"color: #008000; text-decoration-color: #008000\">significant one-time gains in Q1 and reduced profitability from decreased air transport revenue in Q2.\\n\\nThis </span>\n",
       "<span style=\"color: #008000; text-decoration-color: #008000\">concludes the brief overview of Q2 performance.\\n\\nAdditionally, regarding Samsung SDS's ESG, we published and </span>\n",
       "<span style=\"color: #008000; text-decoration-color: #008000\">distributed the 2023 Samsung SDS Sustainability Report on our website on June 30, explaining our ESG performance. </span>\n",
       "<span style=\"color: #008000; text-decoration-color: #008000\">Please refer to this newly published report to understand our ESG management performance and strategies.\\n\\nNow, </span>\n",
       "<span style=\"color: #008000; text-decoration-color: #008000\">let me open the floor for division leaders to explain the performance of Q2 and outline any upcoming plans.\\n\\n## </span>\n",
       "<span style=\"color: #008000; text-decoration-color: #008000\">**[Strategic Marketing Office]**\"</span>\n",
       "<span style=\"font-weight: bold\">}</span>\n",
       "</pre>\n"
      ]
     },
     "metadata": {},
     "output_type": "display_data"
    }
   ],
   "execution_count": 7
  },
  {
   "metadata": {},
   "cell_type": "markdown",
   "source": "### Convert JSONL to markdown files"
  },
  {
   "metadata": {
    "ExecuteTime": {
     "end_time": "2024-10-01T14:05:31.767932Z",
     "start_time": "2024-10-01T14:05:31.766151Z"
    }
   },
   "cell_type": "code",
   "source": [
    "import pandas as pd\n",
    "import os\n",
    "import json\n",
    "\n",
    "# Create the output directory if it doesn't exist\n",
    "md_output_dir = f\"{output_dir}/md\"\n",
    "os.makedirs(md_output_dir, exist_ok=True)\n"
   ],
   "outputs": [],
   "execution_count": 8
  },
  {
   "metadata": {
    "ExecuteTime": {
     "end_time": "2024-10-01T14:05:31.774044Z",
     "start_time": "2024-10-01T14:05:31.772219Z"
    }
   },
   "cell_type": "code",
   "source": [
    "def save_document(index, document_text):\n",
    "    file_name = f\"document_{index+1}.md\"\n",
    "    file_path = os.path.join(md_output_dir, file_name)\n",
    "    \n",
    "    with open(file_path, 'w') as f:\n",
    "        f.write(document_text)\n",
    "    \n",
    "    print(f\"Saved {file_path}\")\n"
   ],
   "outputs": [],
   "execution_count": 9
  },
  {
   "metadata": {
    "ExecuteTime": {
     "end_time": "2024-10-01T14:05:31.778944Z",
     "start_time": "2024-10-01T14:05:31.777643Z"
    }
   },
   "cell_type": "code",
   "source": "jsonl_file_path = f\"{output_dir}/seed_data.jsonl\"",
   "outputs": [],
   "execution_count": 10
  },
  {
   "metadata": {
    "ExecuteTime": {
     "end_time": "2024-10-01T14:05:31.790003Z",
     "start_time": "2024-10-01T14:05:31.782515Z"
    }
   },
   "cell_type": "code",
   "source": [
    "\n",
    "with open(jsonl_file_path, 'r') as f:\n",
    "    for i, line in enumerate(f):\n",
    "        entry = json.loads(line)\n",
    "        # Use a unique index for each file\n",
    "        document_text = entry.get('document', '')\n",
    "        save_document(i, document_text)"
   ],
   "outputs": [
    {
     "name": "stdout",
     "output_type": "stream",
     "text": [
      "Saved output/Samsung2/md/document_1.md\n",
      "Saved output/Samsung2/md/document_2.md\n",
      "Saved output/Samsung2/md/document_3.md\n",
      "Saved output/Samsung2/md/document_4.md\n",
      "Saved output/Samsung2/md/document_5.md\n",
      "Saved output/Samsung2/md/document_6.md\n",
      "Saved output/Samsung2/md/document_7.md\n",
      "Saved output/Samsung2/md/document_8.md\n",
      "Saved output/Samsung2/md/document_9.md\n",
      "Saved output/Samsung2/md/document_10.md\n",
      "Saved output/Samsung2/md/document_11.md\n",
      "Saved output/Samsung2/md/document_12.md\n",
      "Saved output/Samsung2/md/document_13.md\n",
      "Saved output/Samsung2/md/document_14.md\n",
      "Saved output/Samsung2/md/document_15.md\n",
      "Saved output/Samsung2/md/document_16.md\n",
      "Saved output/Samsung2/md/document_17.md\n",
      "Saved output/Samsung2/md/document_18.md\n",
      "Saved output/Samsung2/md/document_19.md\n",
      "Saved output/Samsung2/md/document_20.md\n",
      "Saved output/Samsung2/md/document_21.md\n",
      "Saved output/Samsung2/md/document_22.md\n",
      "Saved output/Samsung2/md/document_23.md\n",
      "Saved output/Samsung2/md/document_24.md\n",
      "Saved output/Samsung2/md/document_25.md\n",
      "Saved output/Samsung2/md/document_26.md\n",
      "Saved output/Samsung2/md/document_27.md\n",
      "Saved output/Samsung2/md/document_28.md\n",
      "Saved output/Samsung2/md/document_29.md\n",
      "Saved output/Samsung2/md/document_30.md\n",
      "Saved output/Samsung2/md/document_31.md\n",
      "Saved output/Samsung2/md/document_32.md\n",
      "Saved output/Samsung2/md/document_33.md\n",
      "Saved output/Samsung2/md/document_34.md\n",
      "Saved output/Samsung2/md/document_35.md\n",
      "Saved output/Samsung2/md/document_36.md\n",
      "Saved output/Samsung2/md/document_37.md\n",
      "Saved output/Samsung2/md/document_38.md\n",
      "Saved output/Samsung2/md/document_39.md\n",
      "Saved output/Samsung2/md/document_40.md\n",
      "Saved output/Samsung2/md/document_41.md\n",
      "Saved output/Samsung2/md/document_42.md\n",
      "Saved output/Samsung2/md/document_43.md\n",
      "Saved output/Samsung2/md/document_44.md\n",
      "Saved output/Samsung2/md/document_45.md\n",
      "Saved output/Samsung2/md/document_46.md\n",
      "Saved output/Samsung2/md/document_47.md\n",
      "Saved output/Samsung2/md/document_48.md\n",
      "Saved output/Samsung2/md/document_49.md\n",
      "Saved output/Samsung2/md/document_50.md\n",
      "Saved output/Samsung2/md/document_51.md\n",
      "Saved output/Samsung2/md/document_52.md\n",
      "Saved output/Samsung2/md/document_53.md\n",
      "Saved output/Samsung2/md/document_54.md\n",
      "Saved output/Samsung2/md/document_55.md\n",
      "Saved output/Samsung2/md/document_56.md\n",
      "Saved output/Samsung2/md/document_57.md\n",
      "Saved output/Samsung2/md/document_58.md\n",
      "Saved output/Samsung2/md/document_59.md\n",
      "Saved output/Samsung2/md/document_60.md\n",
      "Saved output/Samsung2/md/document_61.md\n",
      "Saved output/Samsung2/md/document_62.md\n",
      "Saved output/Samsung2/md/document_63.md\n",
      "Saved output/Samsung2/md/document_64.md\n",
      "Saved output/Samsung2/md/document_65.md\n",
      "Saved output/Samsung2/md/document_66.md\n",
      "Saved output/Samsung2/md/document_67.md\n",
      "Saved output/Samsung2/md/document_68.md\n",
      "Saved output/Samsung2/md/document_69.md\n",
      "Saved output/Samsung2/md/document_70.md\n"
     ]
    }
   ],
   "execution_count": 11
  }
 ],
 "metadata": {
  "kernelspec": {
   "display_name": "rbc_demo",
   "language": "python",
   "name": "python3"
  },
  "language_info": {
   "codemirror_mode": {
    "name": "ipython",
    "version": 3
   },
   "file_extension": ".py",
   "mimetype": "text/x-python",
   "name": "python",
   "nbconvert_exporter": "python",
   "pygments_lexer": "ipython3",
   "version": "3.11.9"
  }
 },
 "nbformat": 4,
 "nbformat_minor": 2
}
